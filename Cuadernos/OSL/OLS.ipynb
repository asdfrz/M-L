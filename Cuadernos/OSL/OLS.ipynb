{
 "cells": [
  {
   "cell_type": "code",
   "execution_count": 1,
   "metadata": {
    "collapsed": true
   },
   "outputs": [],
   "source": [
    "import numpy as np\n",
    "import scipy.stats\n",
    "import matplotlib.pyplot as plt\n",
    "%matplotlib inline"
   ]
  },
  {
   "cell_type": "markdown",
   "metadata": {},
   "source": [
    "## Regresión lineal de mínimos cuadrados\n",
    "\n",
    "* Ajustamos la pendiente e intercepción de modo que el ajuste de regresión lineal minimice la suma de los residuos (desplazamientos verticales o distancias).\n",
    "\n",
    "<img src=\"RL1.png\" width=\"400\" />"
   ]
  },
  {
   "cell_type": "code",
   "execution_count": 2,
   "metadata": {},
   "outputs": [
    {
     "data": {
      "image/png": "[encoded data removed]",
      "text/plain": [
       "<matplotlib.figure.Figure at 0x7fdfe01317f0>"
      ]
     },
     "metadata": {},
     "output_type": "display_data"
    }
   ],
   "source": [
    "rng = np.random.RandomState(123)\n",
    "mean = [100, 1000]\n",
    "cov = [[1, 0.9], [0.9, 1]]\n",
    "muestra = rng.multivariate_normal(mean, cov, size=100)\n",
    "x, y = muestra[:, 0], muestra[:, 1]\n",
    "\n",
    "plt.scatter(x, y)\n",
    "plt.xlabel('x')\n",
    "plt.ylabel('y')\n",
    "plt.show()"
   ]
  },
  {
   "cell_type": "markdown",
   "metadata": {},
   "source": [
    "* Calculamos los coeficiente de correlación de Pearson"
   ]
  },
  {
   "cell_type": "code",
   "execution_count": 3,
   "metadata": {},
   "outputs": [
    {
     "data": {
      "text/plain": [
       "array([[ 1.        ,  0.87552229],\n",
       "       [ 0.87552229,  1.        ]])"
      ]
     },
     "execution_count": 3,
     "metadata": {},
     "output_type": "execute_result"
    }
   ],
   "source": [
    "np.corrcoef(np.vstack([x, y]))"
   ]
  },
  {
   "cell_type": "markdown",
   "metadata": {},
   "source": [
    "###  Regresión lineal de mínimos cuadrados usando conceptos estadísticos"
   ]
  },
  {
   "cell_type": "markdown",
   "metadata": {},
   "source": [
    "$w_1 = \\frac{\\sigma_{x,y}}{\\sigma_{x}^{2}}$\n",
    "\n",
    "$b = \\bar{y} - w_1\\bar{x}$\n",
    "\n",
    "donde :\n",
    "\n",
    "\n",
    "$\\text{covarianza: } \\sigma_{xy} = \\frac{1}{n} \\sum_{i=1}^{n} (x_i - \\bar{x})(y_i - \\bar{y})$\n",
    "\n",
    "$\\text{varianza: } \\sigma^{2}_{x} = \\frac{1}{n} \\sum_{i=1}^{n} (x_i - \\bar{x})^2$"
   ]
  },
  {
   "cell_type": "code",
   "execution_count": 4,
   "metadata": {},
   "outputs": [
    {
     "name": "stdout",
     "output_type": "stream",
     "text": [
      "pendiente: 0.84\n",
      "Intercepcion y: 915.59\n"
     ]
    }
   ],
   "source": [
    "cov_xy = np.cov(np.vstack((x, y)), ddof=0)[0, 1]\n",
    "var_x = np.var(x, ddof=0)\n",
    "w1 = cov_xy / var_x\n",
    "b = np.mean(y) - w1*np.mean(x)\n",
    "\n",
    "print('pendiente: %.2f' % w1)\n",
    "print('Intercepcion y: %.2f' % b)"
   ]
  },
  {
   "cell_type": "markdown",
   "metadata": {},
   "source": [
    "###  Regresión lineal de mínimos cuadrados usando álgebra lineal"
   ]
  },
  {
   "cell_type": "markdown",
   "metadata": {},
   "source": [
    "* Solución : $w = (X^T X)^{-1} X^T y$"
   ]
  },
  {
   "cell_type": "code",
   "execution_count": 5,
   "metadata": {},
   "outputs": [
    {
     "name": "stdout",
     "output_type": "stream",
     "text": [
      "Pendiente: 0.84\n",
      "Intercepcion y: 915.59\n"
     ]
    }
   ],
   "source": [
    "X = x[:, np.newaxis]\n",
    "\n",
    "# Agregando una columnas de 1's\n",
    "Xb = np.hstack((np.ones((X.shape[0], 1)), X))\n",
    "w = np.zeros(X.shape[1])\n",
    "\n",
    "z = np.linalg.inv(np.dot(Xb.T, Xb))\n",
    "w = np.dot(z, np.dot(Xb.T, y))\n",
    "b, w1 = w[0], w[1]\n",
    "print('Pendiente: %.2f' % w1)\n",
    "print('Intercepcion y: %.2f' % b)"
   ]
  },
  {
   "cell_type": "markdown",
   "metadata": {},
   "source": [
    "### Uso de una función pre implementada\n",
    "\n",
    "* Hay varias herramientas para manejar estos problemas:\n",
    "\n",
    "    - [statsmodels.regression.linear_model.OLS](http://www.statsmodels.org/dev/generated/statsmodels.regression.linear_model.OLS.html).\n",
    "    - [Ordinary Least Squares and Ridge Regression Variance](http://scikit-learn.org/stable/auto_examples/linear_model/plot_ols_ridge_variance.html)."
   ]
  },
  {
   "cell_type": "code",
   "execution_count": 6,
   "metadata": {},
   "outputs": [
    {
     "name": "stdout",
     "output_type": "stream",
     "text": [
      "Pendiente: 0.84\n",
      "Intercepcion y: 915.59\n"
     ]
    }
   ],
   "source": [
    "w = np.polyfit(x, y, deg=1)\n",
    "b, w1 = w[1], w[0]\n",
    "print('Pendiente: %.2f' % w1)\n",
    "print('Intercepcion y: %.2f' % b)"
   ]
  },
  {
   "cell_type": "markdown",
   "metadata": {},
   "source": [
    "### Muestra de la línea de ajuste"
   ]
  },
  {
   "cell_type": "code",
   "execution_count": 7,
   "metadata": {},
   "outputs": [
    {
     "data": {
      "image/png": "[encoded data removed]",
      "text/plain": [
       "<matplotlib.figure.Figure at 0x7fdfb7567ba8>"
      ]
     },
     "metadata": {},
     "output_type": "display_data"
    }
   ],
   "source": [
    "extremos = np.array([np.min(x), np.max(x)])\n",
    "prediccion = extremos*w1 + b\n",
    "\n",
    "plt.plot(x, y, marker='o', linestyle='')\n",
    "plt.plot(extremos, prediccion)\n",
    "plt.xlabel('x')\n",
    "plt.ylabel('y')\n",
    "plt.show()"
   ]
  },
  {
   "cell_type": "markdown",
   "metadata": {},
   "source": [
    "### Evaluación"
   ]
  },
  {
   "cell_type": "markdown",
   "metadata": {},
   "source": [
    "####  Error cuadrado medio  (MSE) : \n",
    "\n",
    "$$ MSE = \\frac{1}{n} \\sum_{i=1}^{n} \\big(y_i - \\hat{y_i}\\big)^2$$\n",
    "\n",
    "* El MSE es dependiente de la escala."
   ]
  },
  {
   "cell_type": "code",
   "execution_count": 8,
   "metadata": {},
   "outputs": [
    {
     "data": {
      "text/plain": [
       "0.21920128791623694"
      ]
     },
     "execution_count": 8,
     "metadata": {},
     "output_type": "execute_result"
    }
   ],
   "source": [
    "y_prediccion = x*w1 + b\n",
    "mse = np.mean((y - y_prediccion)**2)\n",
    "mse"
   ]
  },
  {
   "cell_type": "code",
   "execution_count": 9,
   "metadata": {},
   "outputs": [
    {
     "data": {
      "text/plain": [
       "0.46818937185313908"
      ]
     },
     "execution_count": 9,
     "metadata": {},
     "output_type": "execute_result"
    }
   ],
   "source": [
    "rmse = np.sqrt(mse)\n",
    "rmse"
   ]
  },
  {
   "cell_type": "markdown",
   "metadata": {},
   "source": [
    "### Residuos"
   ]
  },
  {
   "cell_type": "code",
   "execution_count": 10,
   "metadata": {},
   "outputs": [
    {
     "data": {
      "text/plain": [
       "<matplotlib.text.Text at 0x7fdfb6c34550>"
      ]
     },
     "execution_count": 10,
     "metadata": {},
     "output_type": "execute_result"
    },
    {
     "data": {
      "image/png": "[encoded data removed]",
      "text/plain": [
       "<matplotlib.figure.Figure at 0x7fdfbaae7e80>"
      ]
     },
     "metadata": {},
     "output_type": "display_data"
    }
   ],
   "source": [
    "plt.scatter(np.arange(x.shape[0]), y - y_prediccion)\n",
    "plt.ylabel('compensacion vertical ')\n",
    "plt.xlabel('indice')"
   ]
  },
  {
   "cell_type": "markdown",
   "metadata": {},
   "source": [
    "### Coeficientes de determinación\n"
   ]
  },
  {
   "cell_type": "markdown",
   "metadata": {},
   "source": [
    "* Suma total de cuadrados (variabilidad de la respuesta de la variable objetivo, proporcional a la varianza):\n",
    "    \n",
    "    $$SS_{total} = \\sum_{i=1}^{n} \\big( y_i - \\bar{y_i} \\big)^2$$\n",
    "    \n",
    "* Suma residual de cuadrados:\n",
    "\n",
    "    $$SS_{residual} = \\sum_{i=1}^{n} \\big( \\hat{y_i} - \\bar{y_i} \\big)^2$$\n",
    "\n",
    "* Coeficiente de determinación:\n",
    "\n",
    "    $$R^2 = \\frac{SS_{residual}}{SS_{total}}$$"
   ]
  },
  {
   "cell_type": "code",
   "execution_count": 11,
   "metadata": {},
   "outputs": [
    {
     "data": {
      "text/plain": [
       "0.76653928492769419"
      ]
     },
     "execution_count": 11,
     "metadata": {},
     "output_type": "execute_result"
    }
   ],
   "source": [
    "media_y = np.mean(y)\n",
    "SS_total = np.sum((y - media_y)**2)\n",
    "SS_residual = np.sum((y_prediccion - media_y)**2)\n",
    "r_2 = SS_residual / SS_total\n",
    "r_2"
   ]
  },
  {
   "cell_type": "markdown",
   "metadata": {},
   "source": [
    "* Normalmente, el coeficiente de determinación se puede calcular elevando al cuadrado el coeficiente de correlación de Pearson:"
   ]
  },
  {
   "cell_type": "code",
   "execution_count": 12,
   "metadata": {},
   "outputs": [
    {
     "data": {
      "text/plain": [
       "0.76653928492765233"
      ]
     },
     "execution_count": 12,
     "metadata": {},
     "output_type": "execute_result"
    }
   ],
   "source": [
    "pendiente, intercepcion, r_valor, p_valor, std_err = scipy.stats.linregress(x, y)\n",
    "r_valor**2"
   ]
  },
  {
   "cell_type": "markdown",
   "metadata": {},
   "source": [
    "* Se debe tener en cuenta que si el modelo encaja peor que una línea horizontal, el coeficiente de determinación puede ser negativo (por lo que no siempre se recomienda siempre usar un coeficiente cuadrado de Pearson para calcular $ R^2 $)."
   ]
  },
  {
   "cell_type": "code",
   "execution_count": null,
   "metadata": {
    "collapsed": true
   },
   "outputs": [],
   "source": []
  }
 ],
 "metadata": {
  "kernelspec": {
   "display_name": "Python 3",
   "language": "python",
   "name": "python3"
  },
  "language_info": {
   "codemirror_mode": {
    "name": "ipython",
    "version": 3
   },
   "file_extension": ".py",
   "mimetype": "text/x-python",
   "name": "python",
   "nbconvert_exporter": "python",
   "pygments_lexer": "ipython3",
   "version": "3.6.1"
  }
 },
 "nbformat": 4,
 "nbformat_minor": 2
}
